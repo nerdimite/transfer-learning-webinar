{
 "cells": [
  {
   "cell_type": "markdown",
   "metadata": {
    "colab_type": "text",
    "id": "oMEaImCmDyoH"
   },
   "source": [
    "# Transfer Learning\n",
    "\n",
    "### Table of Contents\n",
    "* Downloading the Data\n",
    "* Preprocessing the Data\n",
    "* Training a Model from Scratch (modelA)\n",
    "* Feature Extraction from PreTrained Model (modelB)\n",
    "* Fine-Tuning Specific Layers of PreTrained Model (modelC)"
   ]
  },
  {
   "cell_type": "markdown",
   "metadata": {
    "colab_type": "text",
    "id": "VPO8SHniEsgV"
   },
   "source": [
    "## Downloading the Data"
   ]
  },
  {
   "cell_type": "code",
   "execution_count": 0,
   "metadata": {
    "colab": {
     "base_uri": "https://localhost:8080/",
     "height": 202
    },
    "colab_type": "code",
    "id": "Z-CTxFHtEEFM",
    "outputId": "8b6f86fe-ebcf-4123-eb82-f71805e03d4f"
   },
   "outputs": [
    {
     "name": "stdout",
     "output_type": "stream",
     "text": [
      "--2019-12-18 13:50:25--  https://storage.googleapis.com/mledu-datasets/cats_and_dogs_filtered.zip\n",
      "Resolving storage.googleapis.com (storage.googleapis.com)... 108.177.97.128, 2404:6800:4008:c02::80\n",
      "Connecting to storage.googleapis.com (storage.googleapis.com)|108.177.97.128|:443... connected.\n",
      "HTTP request sent, awaiting response... 200 OK\n",
      "Length: 68606236 (65M) [application/zip]\n",
      "Saving to: ‘/tmp/cats_and_dogs_filtered.zip’\n",
      "\n",
      "\r",
      "          /tmp/cats   0%[                    ]       0  --.-KB/s               \r",
      "         /tmp/cats_  54%[=========>          ]  35.57M   178MB/s               \r",
      "/tmp/cats_and_dogs_ 100%[===================>]  65.43M   199MB/s    in 0.3s    \n",
      "\n",
      "2019-12-18 13:50:26 (199 MB/s) - ‘/tmp/cats_and_dogs_filtered.zip’ saved [68606236/68606236]\n",
      "\n"
     ]
    }
   ],
   "source": [
    "!wget --no-check-certificate \\\n",
    "    https://storage.googleapis.com/mledu-datasets/cats_and_dogs_filtered.zip \\\n",
    "    -O /tmp/cats_and_dogs_filtered.zip"
   ]
  },
  {
   "cell_type": "code",
   "execution_count": 0,
   "metadata": {
    "colab": {},
    "colab_type": "code",
    "id": "8NXfX9odEERg"
   },
   "outputs": [],
   "source": [
    "import os\n",
    "import zipfile\n",
    "\n",
    "local_zip = '/tmp/cats_and_dogs_filtered.zip'\n",
    "zip_ref = zipfile.ZipFile(local_zip, 'r')\n",
    "zip_ref.extractall('/tmp')\n",
    "zip_ref.close()"
   ]
  },
  {
   "cell_type": "code",
   "execution_count": 0,
   "metadata": {
    "colab": {},
    "colab_type": "code",
    "id": "krezOLP_EEav"
   },
   "outputs": [],
   "source": [
    "base_dir = '/tmp/cats_and_dogs_filtered'\n",
    "train_dir = os.path.join(base_dir, 'train')\n",
    "validation_dir = os.path.join(base_dir, 'validation')\n",
    "\n",
    "# Directory with our training cat pictures\n",
    "train_cats_dir = os.path.join(train_dir, 'cats')\n",
    "\n",
    "# Directory with our training dog pictures\n",
    "train_dogs_dir = os.path.join(train_dir, 'dogs')\n",
    "\n",
    "# Directory with our validation cat pictures\n",
    "validation_cats_dir = os.path.join(validation_dir, 'cats')\n",
    "\n",
    "# Directory with our validation dog pictures\n",
    "validation_dogs_dir = os.path.join(validation_dir, 'dogs')"
   ]
  },
  {
   "cell_type": "code",
   "execution_count": 0,
   "metadata": {
    "colab": {
     "base_uri": "https://localhost:8080/",
     "height": 50
    },
    "colab_type": "code",
    "id": "hxz8U0wKEEny",
    "outputId": "86ef030e-31ec-4a4b-8310-931ada930d71"
   },
   "outputs": [
    {
     "name": "stdout",
     "output_type": "stream",
     "text": [
      "total training images: 2000\n",
      "total validation images: 1000\n"
     ]
    }
   ],
   "source": [
    "total_train = len(os.listdir(train_cats_dir)) + len(os.listdir(train_dogs_dir))\n",
    "total_val = len(os.listdir(validation_cats_dir)) + len(os.listdir(validation_dogs_dir))\n",
    "print('total training images:', total_train)\n",
    "print('total validation images:', total_val)"
   ]
  },
  {
   "cell_type": "markdown",
   "metadata": {
    "colab_type": "text",
    "id": "yTnSConMb3QC"
   },
   "source": [
    "## Initial Setup"
   ]
  },
  {
   "cell_type": "code",
   "execution_count": 0,
   "metadata": {
    "colab": {},
    "colab_type": "code",
    "id": "tTLOFOVBc4JI"
   },
   "outputs": [],
   "source": [
    "!pip install tensorflow-gpu"
   ]
  },
  {
   "cell_type": "code",
   "execution_count": 1,
   "metadata": {
    "colab": {},
    "colab_type": "code",
    "id": "_k8sc1RNb3QE"
   },
   "outputs": [],
   "source": [
    "# Importing libraries\n",
    "\n",
    "import numpy as np\n",
    "import tensorflow as tf\n",
    "from tensorflow.keras.preprocessing.image import ImageDataGenerator\n",
    "from tensorflow.keras.applications import VGG16\n",
    "from tensorflow.keras.layers import Dense, Flatten, Dropout, Input, Conv2D, MaxPooling2D\n",
    "from tensorflow.keras.models import Sequential\n",
    "from tensorflow.keras.optimizers import SGD, RMSprop\n",
    "import matplotlib.pyplot as plt\n",
    "import numpy as np\n",
    "import os\n",
    "from imutils import paths\n",
    "%matplotlib inline"
   ]
  },
  {
   "cell_type": "code",
   "execution_count": 0,
   "metadata": {
    "colab": {},
    "colab_type": "code",
    "id": "G9SW7qzmb3QI"
   },
   "outputs": [],
   "source": [
    "# Helper function to plot learning curves\n",
    "\n",
    "def plot_training(history):\n",
    "    fig = plt.figure(figsize=(16,4))\n",
    "    ax = fig.add_subplot(121)\n",
    "    ax.plot(history.history[\"val_loss\"], label=\"val_loss\")\n",
    "    ax.plot(history.history[\"loss\"], label=\"train_loss\")\n",
    "    ax.set_title(\"validation/training loss\")\n",
    "    ax.set_xlabel(\"epochs\")\n",
    "    ax.legend()\n",
    "\n",
    "    ax2 = fig.add_subplot(122)\n",
    "    ax2.plot(history.history[\"val_acc\"], label=\"val_acc\")\n",
    "    ax2.plot(history.history[\"acc\"], label=\"train_acc\")\n",
    "    ax2.set_title(\"validation/training accuracy\")\n",
    "    ax2.set_xlabel(\"epochs\")\n",
    "    ax2.set_ylim(0, 1)\n",
    "    ax2.legend()\n",
    "\n",
    "    plt.show()"
   ]
  },
  {
   "cell_type": "markdown",
   "metadata": {
    "colab_type": "text",
    "id": "ad3jZ061b3QJ"
   },
   "source": [
    "## Data Preprocessing"
   ]
  },
  {
   "cell_type": "code",
   "execution_count": 0,
   "metadata": {
    "colab": {},
    "colab_type": "code",
    "id": "42yKei7ME6k6"
   },
   "outputs": [],
   "source": [
    "BATCH_SIZE = 20"
   ]
  },
  {
   "cell_type": "code",
   "execution_count": 0,
   "metadata": {
    "colab": {},
    "colab_type": "code",
    "id": "OgKhI9wuKWan"
   },
   "outputs": [],
   "source": [
    "# defining the ImageDataGenerator which helps us reading the images and generating batches of data\n",
    "\n",
    "train_aug = ImageDataGenerator(rescale=1./255)\n",
    "val_aug = ImageDataGenerator(rescale=1./255)"
   ]
  },
  {
   "cell_type": "code",
   "execution_count": 0,
   "metadata": {
    "colab": {
     "base_uri": "https://localhost:8080/",
     "height": 50
    },
    "colab_type": "code",
    "id": "ENrhJ_ZhUIVm",
    "outputId": "5deb5e1c-ec5a-451a-f9ab-9942a5890514"
   },
   "outputs": [
    {
     "name": "stdout",
     "output_type": "stream",
     "text": [
      "Found 2000 images belonging to 2 classes.\n",
      "Found 1000 images belonging to 2 classes.\n"
     ]
    }
   ],
   "source": [
    "train_gen = train_aug.flow_from_directory(train_dir, \n",
    "                                          class_mode='binary', \n",
    "                                          target_size=(150,150), \n",
    "                                          color_mode='rgb', \n",
    "                                          batch_size=BATCH_SIZE)\n",
    "\n",
    "val_gen = val_aug.flow_from_directory(validation_dir, \n",
    "                                          class_mode='binary', \n",
    "                                          target_size=(150,150), \n",
    "                                          color_mode='rgb', \n",
    "                                          batch_size=BATCH_SIZE)"
   ]
  },
  {
   "cell_type": "markdown",
   "metadata": {
    "colab_type": "text",
    "id": "23bYwSqrFsO9"
   },
   "source": [
    "## Training a Model from Scratch"
   ]
  },
  {
   "cell_type": "code",
   "execution_count": 0,
   "metadata": {
    "colab": {},
    "colab_type": "code",
    "id": "CpRQlaU_Fy1E"
   },
   "outputs": [],
   "source": [
    "# defining a Sequential Model from scratch\n",
    "\n",
    "model_A = Sequential()\n",
    "model_A.add(Input(shape=(150, 150, 3)))\n",
    "\n",
    "# Three convolution blocks\n",
    "model_A.add(Conv2D(16, 3, activation='relu'))\n",
    "model_A.add(MaxPooling2D(2))\n",
    "\n",
    "model_A.add(Conv2D(32, 3, activation='relu'))\n",
    "model_A.add(MaxPooling2D(2))\n",
    "\n",
    "model_A.add(Conv2D(64, 3, activation='relu'))\n",
    "model_A.add(MaxPooling2D(2))\n",
    "\n",
    "# fully connected layers\n",
    "model_A.add(Flatten())\n",
    "model_A.add(Dense(256, activation='relu'))\n",
    "model_A.add(Dense(1, activation='sigmoid'))"
   ]
  },
  {
   "cell_type": "code",
   "execution_count": 0,
   "metadata": {
    "colab": {
     "base_uri": "https://localhost:8080/",
     "height": 454
    },
    "colab_type": "code",
    "id": "WHgZtBYSHjte",
    "outputId": "9e7143ce-2228-40a1-c1f7-572896218e13"
   },
   "outputs": [
    {
     "name": "stdout",
     "output_type": "stream",
     "text": [
      "Model: \"sequential\"\n",
      "_________________________________________________________________\n",
      "Layer (type)                 Output Shape              Param #   \n",
      "=================================================================\n",
      "conv2d (Conv2D)              (None, 148, 148, 16)      448       \n",
      "_________________________________________________________________\n",
      "max_pooling2d (MaxPooling2D) (None, 74, 74, 16)        0         \n",
      "_________________________________________________________________\n",
      "conv2d_1 (Conv2D)            (None, 72, 72, 32)        4640      \n",
      "_________________________________________________________________\n",
      "max_pooling2d_1 (MaxPooling2 (None, 36, 36, 32)        0         \n",
      "_________________________________________________________________\n",
      "conv2d_2 (Conv2D)            (None, 34, 34, 64)        18496     \n",
      "_________________________________________________________________\n",
      "max_pooling2d_2 (MaxPooling2 (None, 17, 17, 64)        0         \n",
      "_________________________________________________________________\n",
      "flatten (Flatten)            (None, 18496)             0         \n",
      "_________________________________________________________________\n",
      "dense (Dense)                (None, 256)               4735232   \n",
      "_________________________________________________________________\n",
      "dense_1 (Dense)              (None, 1)                 257       \n",
      "=================================================================\n",
      "Total params: 4,759,073\n",
      "Trainable params: 4,759,073\n",
      "Non-trainable params: 0\n",
      "_________________________________________________________________\n"
     ]
    }
   ],
   "source": [
    "model_A.summary()"
   ]
  },
  {
   "cell_type": "code",
   "execution_count": 0,
   "metadata": {
    "colab": {},
    "colab_type": "code",
    "id": "We__D0QCIDp9"
   },
   "outputs": [],
   "source": [
    "# compiling the model with the loss and optimizer\n",
    "model_A.compile(optimizer=RMSprop(lr=0.001), \n",
    "               loss='binary_crossentropy',\n",
    "               metrics=['acc'])"
   ]
  },
  {
   "cell_type": "code",
   "execution_count": 0,
   "metadata": {
    "colab": {
     "base_uri": "https://localhost:8080/",
     "height": 353
    },
    "colab_type": "code",
    "id": "IegNMcepIbIb",
    "outputId": "f515facc-6fb2-413f-8f12-a3bd3bdc132d"
   },
   "outputs": [
    {
     "name": "stdout",
     "output_type": "stream",
     "text": [
      "Epoch 1/10\n",
      "100/100 [==============================] - 13s 133ms/step - loss: 0.7552 - acc: 0.5515 - val_loss: 0.6509 - val_acc: 0.6310\n",
      "Epoch 2/10\n",
      "100/100 [==============================] - 11s 113ms/step - loss: 0.6407 - acc: 0.6490 - val_loss: 0.6313 - val_acc: 0.6630\n",
      "Epoch 3/10\n",
      "100/100 [==============================] - 11s 113ms/step - loss: 0.5624 - acc: 0.7345 - val_loss: 0.5758 - val_acc: 0.7050\n",
      "Epoch 4/10\n",
      "100/100 [==============================] - 11s 113ms/step - loss: 0.4815 - acc: 0.7760 - val_loss: 0.6403 - val_acc: 0.6990\n",
      "Epoch 5/10\n",
      "100/100 [==============================] - 11s 114ms/step - loss: 0.4085 - acc: 0.8150 - val_loss: 0.5825 - val_acc: 0.7490\n",
      "Epoch 6/10\n",
      "100/100 [==============================] - 11s 114ms/step - loss: 0.3285 - acc: 0.8535 - val_loss: 0.6163 - val_acc: 0.7160\n",
      "Epoch 7/10\n",
      "100/100 [==============================] - 11s 114ms/step - loss: 0.2687 - acc: 0.8875 - val_loss: 0.6544 - val_acc: 0.7190\n",
      "Epoch 8/10\n",
      "100/100 [==============================] - 11s 114ms/step - loss: 0.1951 - acc: 0.9225 - val_loss: 0.8610 - val_acc: 0.7030\n",
      "Epoch 9/10\n",
      "100/100 [==============================] - 11s 115ms/step - loss: 0.1398 - acc: 0.9500 - val_loss: 0.9504 - val_acc: 0.7150\n",
      "Epoch 10/10\n",
      "100/100 [==============================] - 11s 114ms/step - loss: 0.1127 - acc: 0.9590 - val_loss: 0.9046 - val_acc: 0.7000\n"
     ]
    }
   ],
   "source": [
    "# fitting the model to training data and storing the leaning curves in history\n",
    "history_A = model_A.fit_generator(train_gen, \n",
    "                     steps_per_epoch=(total_train // BATCH_SIZE),\n",
    "                     validation_data=val_gen,\n",
    "                     validation_steps=(total_val // BATCH_SIZE),\n",
    "                     epochs = 10)"
   ]
  },
  {
   "cell_type": "code",
   "execution_count": 0,
   "metadata": {
    "colab": {
     "base_uri": "https://localhost:8080/",
     "height": 295
    },
    "colab_type": "code",
    "id": "OIuJLb47JZVW",
    "outputId": "8f87823b-a646-4e16-a8e0-d5d2484e7196"
   },
   "outputs": [
    {
     "data": {
      "image/png": "[encoded data removed]",
      "text/plain": [
       "<Figure size 1152x288 with 2 Axes>"
      ]
     },
     "metadata": {
      "tags": []
     },
     "output_type": "display_data"
    }
   ],
   "source": [
    "plot_training(history_A)"
   ]
  },
  {
   "cell_type": "markdown",
   "metadata": {
    "colab_type": "text",
    "id": "hUQxAIAHb3QS"
   },
   "source": [
    "## Feature Extraction from PreTrained Model"
   ]
  },
  {
   "cell_type": "code",
   "execution_count": 0,
   "metadata": {
    "colab": {
     "base_uri": "https://localhost:8080/",
     "height": 50
    },
    "colab_type": "code",
    "id": "MZ2DVOrzFmEk",
    "outputId": "3c21729a-3353-459d-f11b-49a10015b08d"
   },
   "outputs": [
    {
     "name": "stdout",
     "output_type": "stream",
     "text": [
      "Downloading data from https://github.com/fchollet/deep-learning-models/releases/download/v0.1/vgg16_weights_tf_dim_ordering_tf_kernels_notop.h5\n",
      "58892288/58889256 [==============================] - 6s 0us/step\n"
     ]
    }
   ],
   "source": [
    "# getting the pretrained model and freezing all layers\n",
    "\n",
    "base_model = VGG16(weights='imagenet', include_top=False, input_tensor=Input(shape=(150, 150, 3)))\n",
    "base_model.trainable = False"
   ]
  },
  {
   "cell_type": "code",
   "execution_count": 0,
   "metadata": {
    "colab": {
     "base_uri": "https://localhost:8080/",
     "height": 790
    },
    "colab_type": "code",
    "id": "D1NRtA2HLKhi",
    "outputId": "43ecdaf2-f18c-40d8-c18d-b49b3fc432e7"
   },
   "outputs": [
    {
     "name": "stdout",
     "output_type": "stream",
     "text": [
      "Model: \"vgg16\"\n",
      "_________________________________________________________________\n",
      "Layer (type)                 Output Shape              Param #   \n",
      "=================================================================\n",
      "input_2 (InputLayer)         [(None, 150, 150, 3)]     0         \n",
      "_________________________________________________________________\n",
      "block1_conv1 (Conv2D)        (None, 150, 150, 64)      1792      \n",
      "_________________________________________________________________\n",
      "block1_conv2 (Conv2D)        (None, 150, 150, 64)      36928     \n",
      "_________________________________________________________________\n",
      "block1_pool (MaxPooling2D)   (None, 75, 75, 64)        0         \n",
      "_________________________________________________________________\n",
      "block2_conv1 (Conv2D)        (None, 75, 75, 128)       73856     \n",
      "_________________________________________________________________\n",
      "block2_conv2 (Conv2D)        (None, 75, 75, 128)       147584    \n",
      "_________________________________________________________________\n",
      "block2_pool (MaxPooling2D)   (None, 37, 37, 128)       0         \n",
      "_________________________________________________________________\n",
      "block3_conv1 (Conv2D)        (None, 37, 37, 256)       295168    \n",
      "_________________________________________________________________\n",
      "block3_conv2 (Conv2D)        (None, 37, 37, 256)       590080    \n",
      "_________________________________________________________________\n",
      "block3_conv3 (Conv2D)        (None, 37, 37, 256)       590080    \n",
      "_________________________________________________________________\n",
      "block3_pool (MaxPooling2D)   (None, 18, 18, 256)       0         \n",
      "_________________________________________________________________\n",
      "block4_conv1 (Conv2D)        (None, 18, 18, 512)       1180160   \n",
      "_________________________________________________________________\n",
      "block4_conv2 (Conv2D)        (None, 18, 18, 512)       2359808   \n",
      "_________________________________________________________________\n",
      "block4_conv3 (Conv2D)        (None, 18, 18, 512)       2359808   \n",
      "_________________________________________________________________\n",
      "block4_pool (MaxPooling2D)   (None, 9, 9, 512)         0         \n",
      "_________________________________________________________________\n",
      "block5_conv1 (Conv2D)        (None, 9, 9, 512)         2359808   \n",
      "_________________________________________________________________\n",
      "block5_conv2 (Conv2D)        (None, 9, 9, 512)         2359808   \n",
      "_________________________________________________________________\n",
      "block5_conv3 (Conv2D)        (None, 9, 9, 512)         2359808   \n",
      "_________________________________________________________________\n",
      "block5_pool (MaxPooling2D)   (None, 4, 4, 512)         0         \n",
      "=================================================================\n",
      "Total params: 14,714,688\n",
      "Trainable params: 0\n",
      "Non-trainable params: 14,714,688\n",
      "_________________________________________________________________\n"
     ]
    }
   ],
   "source": [
    "base_model.summary()"
   ]
  },
  {
   "cell_type": "code",
   "execution_count": 0,
   "metadata": {
    "colab": {},
    "colab_type": "code",
    "id": "XuPU_S4eFlyw"
   },
   "outputs": [],
   "source": [
    "# adding the base_model to a block of fully connected layers\n",
    "model_B = Sequential()\n",
    "model_B.add(base_model)\n",
    "model_B.add(Flatten())\n",
    "model_B.add(Dense(256, activation='relu'))\n",
    "model_B.add(Dense(1, activation='sigmoid'))"
   ]
  },
  {
   "cell_type": "code",
   "execution_count": 0,
   "metadata": {
    "colab": {
     "base_uri": "https://localhost:8080/",
     "height": 336
    },
    "colab_type": "code",
    "id": "INSj1GOtFlWi",
    "outputId": "e773db48-2a75-4d27-b86d-e3480cd2f9b7"
   },
   "outputs": [
    {
     "name": "stdout",
     "output_type": "stream",
     "text": [
      "input_2 False\n",
      "block1_conv1 False\n",
      "block1_conv2 False\n",
      "block1_pool False\n",
      "block2_conv1 False\n",
      "block2_conv2 False\n",
      "block2_pool False\n",
      "block3_conv1 False\n",
      "block3_conv2 False\n",
      "block3_conv3 False\n",
      "block3_pool False\n",
      "block4_conv1 False\n",
      "block4_conv2 False\n",
      "block4_conv3 False\n",
      "block4_pool False\n",
      "block5_conv1 False\n",
      "block5_conv2 False\n",
      "block5_conv3 False\n",
      "block5_pool False\n"
     ]
    }
   ],
   "source": [
    "# Freezing the Conv layers from VGG16\n",
    "for layer in base_model.layers:\n",
    "  print(layer.name,layer.trainable)"
   ]
  },
  {
   "cell_type": "code",
   "execution_count": 0,
   "metadata": {
    "colab": {},
    "colab_type": "code",
    "id": "-iKZ1CwpFinR"
   },
   "outputs": [],
   "source": [
    "model_B.compile(optimizer=RMSprop(lr=0.0001), \n",
    "               loss='binary_crossentropy',\n",
    "               metrics=['acc'])"
   ]
  },
  {
   "cell_type": "code",
   "execution_count": 0,
   "metadata": {
    "colab": {
     "base_uri": "https://localhost:8080/",
     "height": 353
    },
    "colab_type": "code",
    "id": "WYLX6g6EFkRa",
    "outputId": "76c32ec1-d4cf-4345-c023-36f095fc0661",
    "scrolled": true
   },
   "outputs": [
    {
     "name": "stdout",
     "output_type": "stream",
     "text": [
      "Epoch 1/10\n",
      "100/100 [==============================] - 19s 195ms/step - loss: 0.3998 - acc: 0.8210 - val_loss: 0.3275 - val_acc: 0.8550\n",
      "Epoch 2/10\n",
      "100/100 [==============================] - 18s 184ms/step - loss: 0.2443 - acc: 0.9005 - val_loss: 0.3596 - val_acc: 0.8370\n",
      "Epoch 3/10\n",
      "100/100 [==============================] - 18s 185ms/step - loss: 0.1916 - acc: 0.9255 - val_loss: 0.3130 - val_acc: 0.8580\n",
      "Epoch 4/10\n",
      "100/100 [==============================] - 18s 184ms/step - loss: 0.1521 - acc: 0.9445 - val_loss: 0.2818 - val_acc: 0.8710\n",
      "Epoch 5/10\n",
      "100/100 [==============================] - 18s 183ms/step - loss: 0.1215 - acc: 0.9545 - val_loss: 0.3150 - val_acc: 0.8670\n",
      "Epoch 6/10\n",
      "100/100 [==============================] - 18s 185ms/step - loss: 0.0988 - acc: 0.9665 - val_loss: 0.3149 - val_acc: 0.8690\n",
      "Epoch 7/10\n",
      "100/100 [==============================] - 18s 184ms/step - loss: 0.0786 - acc: 0.9745 - val_loss: 0.2812 - val_acc: 0.8790\n",
      "Epoch 8/10\n",
      "100/100 [==============================] - 18s 183ms/step - loss: 0.0680 - acc: 0.9805 - val_loss: 0.2826 - val_acc: 0.8930\n",
      "Epoch 9/10\n",
      "100/100 [==============================] - 18s 184ms/step - loss: 0.0500 - acc: 0.9890 - val_loss: 0.3167 - val_acc: 0.8780\n",
      "Epoch 10/10\n",
      "100/100 [==============================] - 18s 183ms/step - loss: 0.0406 - acc: 0.9945 - val_loss: 0.3622 - val_acc: 0.8700\n"
     ]
    }
   ],
   "source": [
    "history_B = model_B.fit_generator(train_gen, \n",
    "                     steps_per_epoch=(total_train // BATCH_SIZE),\n",
    "                     validation_data=val_gen,\n",
    "                     validation_steps=(total_val // BATCH_SIZE),\n",
    "                     epochs = 10)"
   ]
  },
  {
   "cell_type": "code",
   "execution_count": 0,
   "metadata": {
    "colab": {
     "base_uri": "https://localhost:8080/",
     "height": 295
    },
    "colab_type": "code",
    "id": "vBG0kIQCb3Qh",
    "outputId": "5ced73dc-e065-46ad-efbb-3e1a15d76d7a"
   },
   "outputs": [
    {
     "data": {
      "image/png": "[encoded data removed]",
      "text/plain": [
       "<Figure size 1152x288 with 2 Axes>"
      ]
     },
     "metadata": {
      "tags": []
     },
     "output_type": "display_data"
    }
   ],
   "source": [
    "plot_training(history_B)"
   ]
  },
  {
   "cell_type": "markdown",
   "metadata": {
    "colab_type": "text",
    "id": "dNTXP-wkb3Qj"
   },
   "source": [
    "## Fine-Tuning Specific Layers of PreTrained Model"
   ]
  },
  {
   "cell_type": "code",
   "execution_count": 0,
   "metadata": {
    "colab": {},
    "colab_type": "code",
    "id": "fLbYKizgK2Lc"
   },
   "outputs": [],
   "source": [
    "# adding the base_model to a block of fully connected layers\n",
    "model_C = Sequential()\n",
    "model_C.add(base_model)\n",
    "model_C.add(Flatten())\n",
    "model_C.add(Dense(256, activation='relu'))\n",
    "model_C.add(Dense(1, activation='sigmoid'))"
   ]
  },
  {
   "cell_type": "code",
   "execution_count": 0,
   "metadata": {
    "colab": {
     "base_uri": "https://localhost:8080/",
     "height": 336
    },
    "colab_type": "code",
    "id": "r6evMQgeb3Qq",
    "outputId": "5daa280f-de7e-4790-9c26-f74e30cf0b9e"
   },
   "outputs": [
    {
     "name": "stdout",
     "output_type": "stream",
     "text": [
      "input_2 False\n",
      "block1_conv1 False\n",
      "block1_conv2 False\n",
      "block1_pool False\n",
      "block2_conv1 False\n",
      "block2_conv2 False\n",
      "block2_pool False\n",
      "block3_conv1 False\n",
      "block3_conv2 False\n",
      "block3_conv3 False\n",
      "block3_pool False\n",
      "block4_conv1 False\n",
      "block4_conv2 False\n",
      "block4_conv3 False\n",
      "block4_pool False\n",
      "block5_conv1 True\n",
      "block5_conv2 True\n",
      "block5_conv3 True\n",
      "block5_pool True\n"
     ]
    }
   ],
   "source": [
    "# Unfreezing the last conv_block\n",
    "for layer in base_model.layers[15:]:\n",
    "    layer.trainable = True\n",
    "\n",
    "# Just ensuring the correct layers are frozen\n",
    "for layer in base_model.layers:\n",
    "  print(layer.name,layer.trainable)"
   ]
  },
  {
   "cell_type": "code",
   "execution_count": 0,
   "metadata": {
    "colab": {},
    "colab_type": "code",
    "id": "Mf2W7EvdLQwX"
   },
   "outputs": [],
   "source": [
    "model_C.compile(optimizer=RMSprop(lr=0.0001), \n",
    "               loss='binary_crossentropy',\n",
    "               metrics=['acc'])"
   ]
  },
  {
   "cell_type": "code",
   "execution_count": 0,
   "metadata": {
    "colab": {
     "base_uri": "https://localhost:8080/",
     "height": 353
    },
    "colab_type": "code",
    "id": "atJ_T8pvLQwc",
    "outputId": "375a8183-1807-4324-858b-702b82497306",
    "scrolled": true
   },
   "outputs": [
    {
     "name": "stdout",
     "output_type": "stream",
     "text": [
      "Epoch 1/10\n",
      "100/100 [==============================] - 19s 186ms/step - loss: 0.3993 - acc: 0.8075 - val_loss: 0.3040 - val_acc: 0.8580\n",
      "Epoch 2/10\n",
      "100/100 [==============================] - 18s 183ms/step - loss: 0.2389 - acc: 0.9060 - val_loss: 0.2695 - val_acc: 0.8830\n",
      "Epoch 3/10\n",
      "100/100 [==============================] - 18s 184ms/step - loss: 0.1942 - acc: 0.9205 - val_loss: 0.2588 - val_acc: 0.8790\n",
      "Epoch 4/10\n",
      "100/100 [==============================] - 18s 185ms/step - loss: 0.1556 - acc: 0.9405 - val_loss: 0.2708 - val_acc: 0.8790\n",
      "Epoch 5/10\n",
      "100/100 [==============================] - 18s 184ms/step - loss: 0.1215 - acc: 0.9535 - val_loss: 0.2659 - val_acc: 0.8870\n",
      "Epoch 6/10\n",
      "100/100 [==============================] - 18s 184ms/step - loss: 0.1021 - acc: 0.9615 - val_loss: 0.2703 - val_acc: 0.8920\n",
      "Epoch 7/10\n",
      "100/100 [==============================] - 18s 184ms/step - loss: 0.0779 - acc: 0.9795 - val_loss: 0.2779 - val_acc: 0.8810\n",
      "Epoch 8/10\n",
      "100/100 [==============================] - 18s 184ms/step - loss: 0.0607 - acc: 0.9830 - val_loss: 0.2700 - val_acc: 0.8980\n",
      "Epoch 9/10\n",
      "100/100 [==============================] - 18s 185ms/step - loss: 0.0482 - acc: 0.9885 - val_loss: 0.2807 - val_acc: 0.8920\n",
      "Epoch 10/10\n",
      "100/100 [==============================] - 18s 183ms/step - loss: 0.0390 - acc: 0.9935 - val_loss: 0.2778 - val_acc: 0.9010\n"
     ]
    }
   ],
   "source": [
    "history_C = model_C.fit_generator(train_gen, \n",
    "                     steps_per_epoch=(total_train // BATCH_SIZE),\n",
    "                     validation_data=val_gen,\n",
    "                     validation_steps=(total_val // BATCH_SIZE),\n",
    "                     epochs = 10)"
   ]
  },
  {
   "cell_type": "code",
   "execution_count": 0,
   "metadata": {
    "colab": {
     "base_uri": "https://localhost:8080/",
     "height": 295
    },
    "colab_type": "code",
    "id": "klWD9TyJLQwf",
    "outputId": "dd2fd4ea-956e-4e97-cf2f-55b4f5298f4a"
   },
   "outputs": [
    {
     "data": {
      "image/png": "[encoded data removed]",
      "text/plain": [
       "<Figure size 1152x288 with 2 Axes>"
      ]
     },
     "metadata": {
      "tags": []
     },
     "output_type": "display_data"
    }
   ],
   "source": [
    "plot_training(history_C)"
   ]
  }
 ],
 "metadata": {
  "accelerator": "GPU",
  "colab": {
   "collapsed_sections": [],
   "name": "Transfer Learning.ipynb",
   "provenance": []
  },
  "kernelspec": {
   "display_name": "Python 3",
   "language": "python",
   "name": "python3"
  },
  "language_info": {
   "codemirror_mode": {
    "name": "ipython",
    "version": 3
   },
   "file_extension": ".py",
   "mimetype": "text/x-python",
   "name": "python",
   "nbconvert_exporter": "python",
   "pygments_lexer": "ipython3",
   "version": "3.7.5"
  }
 },
 "nbformat": 4,
 "nbformat_minor": 1
}
